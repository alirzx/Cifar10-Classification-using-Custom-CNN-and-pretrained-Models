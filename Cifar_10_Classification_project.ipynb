{
  "nbformat": 4,
  "nbformat_minor": 0,
  "metadata": {
    "colab": {
      "provenance": [],
      "gpuType": "V28"
    },
    "kernelspec": {
      "name": "python3",
      "display_name": "Python 3"
    },
    "language_info": {
      "name": "python"
    },
    "accelerator": "TPU"
  },
  "cells": [
    {
      "cell_type": "code",
      "source": [
        "!pip install torchviz\n",
        "! pip install split-folders\n",
        "! pip install torchsummary\n",
        "! pip install imblearn"
      ],
      "metadata": {
        "colab": {
          "base_uri": "https://localhost:8080/"
        },
        "id": "AvQo7p7hVZ7q",
        "outputId": "9e2d1338-d228-4ac3-c4b2-5b2b9f967e34"
      },
      "execution_count": 2,
      "outputs": [
        {
          "output_type": "stream",
          "name": "stdout",
          "text": [
            "Collecting torchviz\n",
            "  Downloading torchviz-0.0.3-py3-none-any.whl.metadata (2.1 kB)\n",
            "Requirement already satisfied: torch in /usr/local/lib/python3.10/dist-packages (from torchviz) (2.5.1+cu121)\n",
            "Requirement already satisfied: graphviz in /usr/local/lib/python3.10/dist-packages (from torchviz) (0.20.3)\n",
            "Requirement already satisfied: filelock in /usr/local/lib/python3.10/dist-packages (from torch->torchviz) (3.16.1)\n",
            "Requirement already satisfied: typing-extensions>=4.8.0 in /usr/local/lib/python3.10/dist-packages (from torch->torchviz) (4.12.2)\n",
            "Requirement already satisfied: networkx in /usr/local/lib/python3.10/dist-packages (from torch->torchviz) (3.4.2)\n",
            "Requirement already satisfied: jinja2 in /usr/local/lib/python3.10/dist-packages (from torch->torchviz) (3.1.4)\n",
            "Requirement already satisfied: fsspec in /usr/local/lib/python3.10/dist-packages (from torch->torchviz) (2024.10.0)\n",
            "Requirement already satisfied: sympy==1.13.1 in /usr/local/lib/python3.10/dist-packages (from torch->torchviz) (1.13.1)\n",
            "Requirement already satisfied: mpmath<1.4,>=1.1.0 in /usr/local/lib/python3.10/dist-packages (from sympy==1.13.1->torch->torchviz) (1.3.0)\n",
            "Requirement already satisfied: MarkupSafe>=2.0 in /usr/local/lib/python3.10/dist-packages (from jinja2->torch->torchviz) (3.0.2)\n",
            "Downloading torchviz-0.0.3-py3-none-any.whl (5.7 kB)\n",
            "Installing collected packages: torchviz\n",
            "Successfully installed torchviz-0.0.3\n",
            "Collecting split-folders\n",
            "  Downloading split_folders-0.5.1-py3-none-any.whl.metadata (6.2 kB)\n",
            "Downloading split_folders-0.5.1-py3-none-any.whl (8.4 kB)\n",
            "Installing collected packages: split-folders\n",
            "Successfully installed split-folders-0.5.1\n",
            "Requirement already satisfied: torchsummary in /usr/local/lib/python3.10/dist-packages (1.5.1)\n",
            "Collecting imblearn\n",
            "  Downloading imblearn-0.0-py2.py3-none-any.whl.metadata (355 bytes)\n",
            "Requirement already satisfied: imbalanced-learn in /usr/local/lib/python3.10/dist-packages (from imblearn) (0.12.4)\n",
            "Requirement already satisfied: numpy>=1.17.3 in /usr/local/lib/python3.10/dist-packages (from imbalanced-learn->imblearn) (1.26.4)\n",
            "Requirement already satisfied: scipy>=1.5.0 in /usr/local/lib/python3.10/dist-packages (from imbalanced-learn->imblearn) (1.13.1)\n",
            "Requirement already satisfied: scikit-learn>=1.0.2 in /usr/local/lib/python3.10/dist-packages (from imbalanced-learn->imblearn) (1.6.0)\n",
            "Requirement already satisfied: joblib>=1.1.1 in /usr/local/lib/python3.10/dist-packages (from imbalanced-learn->imblearn) (1.4.2)\n",
            "Requirement already satisfied: threadpoolctl>=2.0.0 in /usr/local/lib/python3.10/dist-packages (from imbalanced-learn->imblearn) (3.5.0)\n",
            "Downloading imblearn-0.0-py2.py3-none-any.whl (1.9 kB)\n",
            "Installing collected packages: imblearn\n",
            "Successfully installed imblearn-0.0\n"
          ]
        }
      ]
    },
    {
      "cell_type": "code",
      "source": [
        "import torch\n",
        "import torchvision\n",
        "import torchvision.transforms as transforms\n",
        "import torch.nn as nn\n",
        "import torch.optim as optim\n",
        "import numpy as np\n",
        "import matplotlib.pyplot as plt\n",
        "from torchviz import make_dot\n",
        "from torchsummary import summary\n",
        "import torch.nn.functional as F\n",
        "from google.colab import drive\n",
        "import kagglehub\n",
        "import os\n",
        "import shutil\n",
        "import pickle\n",
        "import torch\n",
        "import torchvision.transforms as transforms\n",
        "from torch.utils.data import DataLoader, TensorDataset\n",
        "from torch.optim.lr_scheduler import ReduceLROnPlateau\n",
        "from torch.utils.data import TensorDataset, DataLoader\n",
        "\n"
      ],
      "metadata": {
        "id": "E4FJvD9KRXuF"
      },
      "execution_count": 80,
      "outputs": []
    },
    {
      "cell_type": "code",
      "source": [
        "drive.mount('/content/drive')"
      ],
      "metadata": {
        "colab": {
          "base_uri": "https://localhost:8080/"
        },
        "id": "4mr_FtH6RkiM",
        "outputId": "93e223c2-53c8-4e0b-8a5c-bdd1c12bd770"
      },
      "execution_count": 4,
      "outputs": [
        {
          "output_type": "stream",
          "name": "stdout",
          "text": [
            "Mounted at /content/drive\n"
          ]
        }
      ]
    },
    {
      "cell_type": "code",
      "source": [
        "\n",
        "\n",
        "# Download latest version\n",
        "path = kagglehub.dataset_download(\"valentynsichkar/cifar10-preprocessed\")\n",
        "\n",
        "print(\"Path to dataset files:\", path)"
      ],
      "metadata": {
        "id": "8WaqaJM4U-Bj"
      },
      "execution_count": null,
      "outputs": []
    },
    {
      "cell_type": "code",
      "source": [
        "\n",
        "\n",
        "# Step 2: Define the paths for the new directories\n",
        "datasets_folder_path = '/content/drive/My Drive/Datasets'\n",
        "cifar10_folder_path = os.path.join(datasets_folder_path, 'CIFAR-10')\n",
        "\n",
        "# Step 3: Create the directories\n",
        "os.makedirs(cifar10_folder_path, exist_ok=True)\n",
        "\n",
        "# Step 4: Move the downloaded files to the 'CIFAR-10' folder\n",
        "for filename in os.listdir(path):\n",
        "    shutil.move(os.path.join(path, filename), os.path.join(cifar10_folder_path, filename))\n",
        "\n",
        "print(\"Dataset files downloaded to:\", cifar10_folder_path)\n"
      ],
      "metadata": {
        "id": "19vPsREZSNZ3"
      },
      "execution_count": null,
      "outputs": []
    },
    {
      "cell_type": "code",
      "source": [
        "\n",
        "# Step 1: Load the Pickle File\n",
        "with open('/content/drive/MyDrive/Datasets/CIFAR-10/data.pickle', 'rb') as f:\n",
        "    data = pickle.load(f)\n",
        "\n",
        "# Extract the data\n",
        "x_train = data['x_train']\n",
        "y_train = data['y_train']\n",
        "x_validation = data['x_validation']\n",
        "y_validation = data['y_validation']\n",
        "x_test = data['x_test']\n"
      ],
      "metadata": {
        "id": "in1Jl1ZcWdiZ"
      },
      "execution_count": 81,
      "outputs": []
    },
    {
      "cell_type": "code",
      "source": [
        "# Step 2: Analyze the Data\n",
        "print(\"Training data shape:\", x_train.shape)  # (49000, 3, 32, 32)\n",
        "print(\"Training labels shape:\", y_train.shape)  # (49000,)\n",
        "print(\"Validation data shape:\", x_validation.shape)  # (1000, 3, 32, 32)\n",
        "print(\"Validation labels shape:\", y_validation.shape)  # (1000,)\n",
        "print(\"Test data shape:\", x_test.shape)  # (1000, 3, 32, 32)\n"
      ],
      "metadata": {
        "colab": {
          "base_uri": "https://localhost:8080/"
        },
        "id": "88R4fPujWm-9",
        "outputId": "3ad7eda3-ffce-4124-9bf6-1cd10a54fd83"
      },
      "execution_count": 82,
      "outputs": [
        {
          "output_type": "stream",
          "name": "stdout",
          "text": [
            "Training data shape: (49000, 3, 32, 32)\n",
            "Training labels shape: (49000,)\n",
            "Validation data shape: (1000, 3, 32, 32)\n",
            "Validation labels shape: (1000,)\n",
            "Test data shape: (1000, 3, 32, 32)\n"
          ]
        }
      ]
    },
    {
      "cell_type": "code",
      "source": [
        "\n",
        "# Unique classes in the dataset\n",
        "unique_classes, counts = np.unique(y_train, return_counts=True)\n",
        "print(\"Class distribution in training data:\")\n",
        "for cls, count in zip(unique_classes, counts):\n",
        "    print(f\"Class {cls}: {count} samples\")\n"
      ],
      "metadata": {
        "colab": {
          "base_uri": "https://localhost:8080/"
        },
        "id": "1IQ6rt1LXwDw",
        "outputId": "13ecb7fe-7c16-44a0-cfdf-a13f1547552c"
      },
      "execution_count": 83,
      "outputs": [
        {
          "output_type": "stream",
          "name": "stdout",
          "text": [
            "Class distribution in training data:\n",
            "Class 0: 4913 samples\n",
            "Class 1: 4881 samples\n",
            "Class 2: 4921 samples\n",
            "Class 3: 4888 samples\n",
            "Class 4: 4922 samples\n",
            "Class 5: 4902 samples\n",
            "Class 6: 4898 samples\n",
            "Class 7: 4893 samples\n",
            "Class 8: 4887 samples\n",
            "Class 9: 4895 samples\n"
          ]
        }
      ]
    },
    {
      "cell_type": "code",
      "source": [
        "\n",
        "# Step 3: Visualize the Data\n",
        "def visualize_samples(images, labels, num_samples=5):\n",
        "    plt.figure(figsize=(15, 5))\n",
        "    for i in range(num_samples):\n",
        "        plt.subplot(1, num_samples, i + 1)\n",
        "        plt.imshow(images[i].transpose(1, 2, 0))  # Transpose to (H, W, C)\n",
        "        plt.title(f\"Label: {labels[i]}\")\n",
        "        plt.axis('off')\n",
        "    plt.show()\n"
      ],
      "metadata": {
        "id": "Drg5P-neXyKd"
      },
      "execution_count": 84,
      "outputs": []
    },
    {
      "cell_type": "code",
      "source": [
        "\n",
        "# Visualize samples from the training set\n",
        "print(\"Training Samples:\")\n",
        "visualize_samples(x_train, y_train)\n",
        "\n",
        "# Visualize samples from the validation set\n",
        "print(\"Validation Samples:\")\n",
        "visualize_samples(x_validation, y_validation)\n",
        "\n",
        "# Visualize samples from the test set (no labels available)\n",
        "print(\"Test Samples:\")\n",
        "visualize_samples(x_test, np.zeros(x_test.shape[0]))  # Dummy labels"
      ],
      "metadata": {
        "colab": {
          "base_uri": "https://localhost:8080/",
          "height": 1000
        },
        "id": "WOXFkrvAXqYR",
        "outputId": "a429454d-93eb-415a-f8df-d9ac2d04fe6c"
      },
      "execution_count": 85,
      "outputs": [
        {
          "output_type": "stream",
          "name": "stderr",
          "text": [
            "WARNING:matplotlib.image:Clipping input data to the valid range for imshow with RGB data ([0..1] for floats or [0..255] for integers).\n",
            "WARNING:matplotlib.image:Clipping input data to the valid range for imshow with RGB data ([0..1] for floats or [0..255] for integers).\n",
            "WARNING:matplotlib.image:Clipping input data to the valid range for imshow with RGB data ([0..1] for floats or [0..255] for integers).\n",
            "WARNING:matplotlib.image:Clipping input data to the valid range for imshow with RGB data ([0..1] for floats or [0..255] for integers).\n"
          ]
        },
        {
          "output_type": "stream",
          "name": "stdout",
          "text": [
            "Training Samples:\n"
          ]
        },
        {
          "output_type": "stream",
          "name": "stderr",
          "text": [
            "WARNING:matplotlib.image:Clipping input data to the valid range for imshow with RGB data ([0..1] for floats or [0..255] for integers).\n"
          ]
        },
        {
          "output_type": "display_data",
          "data": {
            "text/plain": [
              "<Figure size 1500x500 with 5 Axes>"
            ],
            "image/png": "[encoded data removed]"
          },
          "metadata": {}
        },
        {
          "output_type": "stream",
          "name": "stderr",
          "text": [
            "WARNING:matplotlib.image:Clipping input data to the valid range for imshow with RGB data ([0..1] for floats or [0..255] for integers).\n",
            "WARNING:matplotlib.image:Clipping input data to the valid range for imshow with RGB data ([0..1] for floats or [0..255] for integers).\n",
            "WARNING:matplotlib.image:Clipping input data to the valid range for imshow with RGB data ([0..1] for floats or [0..255] for integers).\n",
            "WARNING:matplotlib.image:Clipping input data to the valid range for imshow with RGB data ([0..1] for floats or [0..255] for integers).\n",
            "WARNING:matplotlib.image:Clipping input data to the valid range for imshow with RGB data ([0..1] for floats or [0..255] for integers).\n"
          ]
        },
        {
          "output_type": "stream",
          "name": "stdout",
          "text": [
            "Validation Samples:\n"
          ]
        },
        {
          "output_type": "display_data",
          "data": {
            "text/plain": [
              "<Figure size 1500x500 with 5 Axes>"
            ],
            "image/png": "[encoded data removed]"
          },
          "metadata": {}
        },
        {
          "output_type": "stream",
          "name": "stderr",
          "text": [
            "WARNING:matplotlib.image:Clipping input data to the valid range for imshow with RGB data ([0..1] for floats or [0..255] for integers).\n",
            "WARNING:matplotlib.image:Clipping input data to the valid range for imshow with RGB data ([0..1] for floats or [0..255] for integers).\n",
            "WARNING:matplotlib.image:Clipping input data to the valid range for imshow with RGB data ([0..1] for floats or [0..255] for integers).\n",
            "WARNING:matplotlib.image:Clipping input data to the valid range for imshow with RGB data ([0..1] for floats or [0..255] for integers).\n",
            "WARNING:matplotlib.image:Clipping input data to the valid range for imshow with RGB data ([0..1] for floats or [0..255] for integers).\n"
          ]
        },
        {
          "output_type": "stream",
          "name": "stdout",
          "text": [
            "Test Samples:\n"
          ]
        },
        {
          "output_type": "display_data",
          "data": {
            "text/plain": [
              "<Figure size 1500x500 with 5 Axes>"
            ],
            "image/png": "[encoded data removed]"
          },
          "metadata": {}
        }
      ]
    },
    {
      "cell_type": "code",
      "source": [
        "print(\"Training data shape after transform:\", x_train.shape)  # Should be (49000, 3, 32, 32)\n",
        "print(\"Validation data shape after transform:\", x_validation.shape)  # Should be (1000, 3, 32, 32)\n",
        "print(\"Test data shape after transform:\", x_test.shape)  # Should be (1000, 3, 32, 32)"
      ],
      "metadata": {
        "colab": {
          "base_uri": "https://localhost:8080/"
        },
        "id": "qirudD0evOYS",
        "outputId": "d535d702-7a82-4f76-9bf4-c851548ebf6c"
      },
      "execution_count": 86,
      "outputs": [
        {
          "output_type": "stream",
          "name": "stdout",
          "text": [
            "Training data shape after transform: (49000, 3, 32, 32)\n",
            "Validation data shape after transform: (1000, 3, 32, 32)\n",
            "Test data shape after transform: (1000, 3, 32, 32)\n"
          ]
        }
      ]
    },
    {
      "cell_type": "code",
      "source": [
        "x_train_tensor.shape"
      ],
      "metadata": {
        "id": "dx31I9dPWbWi",
        "colab": {
          "base_uri": "https://localhost:8080/"
        },
        "outputId": "eba38e39-ea61-47dc-d194-d3c0eeada789"
      },
      "execution_count": 87,
      "outputs": [
        {
          "output_type": "execute_result",
          "data": {
            "text/plain": [
              "torch.Size([49000, 3, 32, 32])"
            ]
          },
          "metadata": {},
          "execution_count": 87
        }
      ]
    },
    {
      "cell_type": "code",
      "source": [
        "print(\"Type of x_train:\", type(x_train))  # Should be <class 'numpy.ndarray'> or <class 'torch.Tensor'>"
      ],
      "metadata": {
        "id": "FoyPAiOcWbaQ",
        "colab": {
          "base_uri": "https://localhost:8080/"
        },
        "outputId": "f2bbffab-6378-40c2-f531-eca927799768"
      },
      "execution_count": 88,
      "outputs": [
        {
          "output_type": "stream",
          "name": "stdout",
          "text": [
            "Type of x_train: <class 'numpy.ndarray'>\n"
          ]
        }
      ]
    },
    {
      "cell_type": "code",
      "source": [
        "\n",
        "# Step 3: Define Data Augmentation Transforms\n",
        "transform_train = transforms.Compose([\n",
        "    transforms.ToPILImage(),\n",
        "    transforms.RandomHorizontalFlip(p=0.5),\n",
        "    transforms.RandomCrop(32, padding=4),\n",
        "    transforms.ColorJitter(brightness=0.2, contrast=0.2, saturation=0.2),  # Color jittering\n",
        "    transforms.ToTensor(),\n",
        "    transforms.Normalize(mean=[0.4914, 0.4822, 0.4465], std=[0.2470, 0.2435, 0.2616])\n",
        "])\n",
        "\n",
        "transform_val_test = transforms.Compose([\n",
        "    transforms.ToTensor(),  # Convert to tensor\n",
        "    transforms.Normalize(mean=[0.4914, 0.4822, 0.4465], std=[0.2470, 0.2435, 0.2616])  # Normalize\n",
        "])\n",
        "\n",
        "# Step 4: Apply Transforms to the Data\n",
        "x_train_augmented = torch.stack([transform_train(img.transpose(1, 2, 0)) for img in x_train])  # Transpose to (height, width, channels)\n",
        "x_validation_transformed = torch.stack([transform_val_test(img.transpose(1, 2, 0)) for img in x_validation])  # Transpose to (height, width, channels)\n",
        "x_test_transformed = torch.stack([transform_val_test(img.transpose(1, 2, 0)) for img in x_test])  # Transpose to (height, width, channels)\n",
        "\n",
        "# Convert to float32\n",
        "#x_train_augmented = x_train_augmented.float()\n",
        "x_validation_transformed = x_validation_transformed.float()\n",
        "x_test_transformed = x_test_transformed.float()\n",
        "\n",
        "# Convert labels to tensors\n",
        "y_train_tensor = torch.tensor(y_train, dtype=torch.long)\n",
        "y_validation_tensor = torch.tensor(y_validation, dtype=torch.long)\n",
        "\n",
        "# Step 5: Create Data Loaders\n",
        "train_dataset = TensorDataset(x_train_augmented, y_train_tensor)\n",
        "validation_dataset = TensorDataset(x_validation_transformed, y_validation_tensor)\n",
        "test_dataset = TensorDataset(x_test_transformed)\n",
        "\n",
        "train_loader = DataLoader(train_dataset, batch_size=256, shuffle=True, pin_memory=True)\n",
        "validation_loader = DataLoader(validation_dataset, batch_size=256, shuffle=False, pin_memory=True)\n",
        "test_loader = DataLoader(test_dataset, batch_size=256, shuffle=False, pin_memory=True)\n",
        "\n",
        "print(\"Data loaders with augmentation created successfully.\")"
      ],
      "metadata": {
        "colab": {
          "base_uri": "https://localhost:8080/"
        },
        "id": "mI7A1PjfEo2H",
        "outputId": "66dd4af4-ca8c-4dec-bdfd-d1ae98f8e38f"
      },
      "execution_count": 127,
      "outputs": [
        {
          "output_type": "stream",
          "name": "stdout",
          "text": [
            "Data loaders with augmentation created successfully.\n"
          ]
        }
      ]
    },
    {
      "cell_type": "code",
      "source": [
        "print(\"Data type of x_train_augmented:\", x_train_augmented.dtype)\n",
        "print(\"Data type of x_validation_transformed:\", x_validation_transformed.dtype)\n",
        "print(\"Data type of x_test_transformed:\", x_test_transformed.dtype)"
      ],
      "metadata": {
        "colab": {
          "base_uri": "https://localhost:8080/"
        },
        "id": "aBE3ysyHF9Jz",
        "outputId": "226f8313-e3a4-4755-b394-33454dd04bce"
      },
      "execution_count": 128,
      "outputs": [
        {
          "output_type": "stream",
          "name": "stdout",
          "text": [
            "Data type of x_train_augmented: torch.float32\n",
            "Data type of x_validation_transformed: torch.float32\n",
            "Data type of x_test_transformed: torch.float32\n"
          ]
        }
      ]
    },
    {
      "cell_type": "code",
      "source": [
        "class EvenMoreComplexCNN(nn.Module):\n",
        "    def __init__(self):\n",
        "        super(EvenMoreComplexCNN, self).__init__()\n",
        "\n",
        "        # Convolutional layers\n",
        "        self.conv1 = nn.Conv2d(3, 64, kernel_size=3, padding=1)\n",
        "        self.bn1 = nn.BatchNorm2d(64)\n",
        "\n",
        "        self.conv2 = nn.Conv2d(64, 128, kernel_size=3, padding=1)\n",
        "        self.bn2 = nn.BatchNorm2d(128)\n",
        "\n",
        "        self.conv3 = nn.Conv2d(128, 256, kernel_size=3, padding=1)\n",
        "        self.bn3 = nn.BatchNorm2d(256)\n",
        "\n",
        "        self.conv4 = nn.Conv2d(256, 512, kernel_size=3, padding=1)\n",
        "        self.bn4 = nn.BatchNorm2d(512)\n",
        "\n",
        "        self.conv5 = nn.Conv2d(512, 512, kernel_size=3, padding=1)\n",
        "        self.bn5 = nn.BatchNorm2d(512)\n",
        "\n",
        "        # Global Average Pooling\n",
        "        self.global_pool = nn.AdaptiveAvgPool2d((1, 1))\n",
        "\n",
        "        # Fully connected layers\n",
        "        self.fc1 = nn.Linear(512, 256)\n",
        "        self.fc2 = nn.Linear(256, 128)\n",
        "        self.fc3 = nn.Linear(128, 10)  # 10 classes for CIFAR-10\n",
        "\n",
        "        # Dropout\n",
        "        self.dropout = nn.Dropout(p=0.5)\n",
        "\n",
        "    def forward(self, x):\n",
        "        # Convolutional layers with activation, batch normalization, and pooling\n",
        "        x = F.relu(self.bn1(self.conv1(x)))\n",
        "        x = F.max_pool2d(x, kernel_size=2, stride=2)\n",
        "\n",
        "        x = F.relu(self.bn2(self.conv2(x)))\n",
        "        x = F.max_pool2d(x, kernel_size=2, stride=2)\n",
        "\n",
        "        x = F.relu(self.bn3(self.conv3(x)))\n",
        "        x = F.max_pool2d(x, kernel_size=2, stride=2)\n",
        "\n",
        "        x = F.relu(self.bn4(self.conv4(x)))\n",
        "        x = F.max_pool2d(x, kernel_size=2, stride=2)\n",
        "\n",
        "        x = F.relu(self.bn5(self.conv5(x)))\n",
        "        x = F.max_pool2d(x, kernel_size=2, stride=2)\n",
        "\n",
        "        # Global Average Pooling\n",
        "        x = self.global_pool(x)\n",
        "\n",
        "        # Flatten the output for the fully connected layers\n",
        "        x = x.view(-1, 512)\n",
        "\n",
        "        # Fully connected layers with dropout\n",
        "        x = F.relu(self.fc1(x))\n",
        "        x = self.dropout(x)\n",
        "\n",
        "        x = F.relu(self.fc2(x))\n",
        "        x = self.dropout(x)\n",
        "\n",
        "        x = self.fc3(x)  # Output logits for 10 classes\n",
        "\n",
        "        return x"
      ],
      "metadata": {
        "id": "SQ77jkdQ3_P6"
      },
      "execution_count": 192,
      "outputs": []
    },
    {
      "cell_type": "code",
      "source": [
        "\n",
        "# Check if CUDA is available\n",
        "if torch.cuda.is_available():\n",
        "    print(\"CUDA is available!\")\n",
        "    # Get the current device\n",
        "    current_device = torch.cuda.current_device()\n",
        "    print(f\"Current CUDA device: {current_device}\")\n",
        "\n",
        "    # Get the number of GPUs\n",
        "    num_gpus = torch.cuda.device_count()\n",
        "    print(f\"Number of available GPUs: {num_gpus}\")\n",
        "\n",
        "    # Get the name of the GPU\n",
        "    for i in range(num_gpus):\n",
        "        print(f\"GPU {i}: {torch.cuda.get_device_name(i)}\")\n",
        "else:\n",
        "    print(\"CUDA is not available.\")\n"
      ],
      "metadata": {
        "colab": {
          "base_uri": "https://localhost:8080/"
        },
        "id": "3mPAlHRrY9No",
        "outputId": "c4462ed3-f341-4b4e-feb9-429ec82bf2f7"
      },
      "execution_count": 193,
      "outputs": [
        {
          "output_type": "stream",
          "name": "stdout",
          "text": [
            "CUDA is available!\n",
            "Current CUDA device: 0\n",
            "Number of available GPUs: 1\n",
            "GPU 0: Tesla T4\n"
          ]
        }
      ]
    },
    {
      "cell_type": "code",
      "source": [
        "# Instantiate the model\n",
        "model = EvenMoreComplexCNN()\n"
      ],
      "metadata": {
        "id": "5vHdBJ2HaEs6"
      },
      "execution_count": 195,
      "outputs": []
    },
    {
      "cell_type": "code",
      "source": [
        "# Set device\n",
        "device = torch.device('cuda' if torch.cuda.is_available() else 'cpu')\n",
        "\n",
        "# Move model to the appropriate device\n",
        "model.to(device)\n",
        "\n",
        "# Create a dummy input tensor on the same device\n",
        "input_tensor = torch.randn(1, 3, 32, 32).to(device)\n",
        "\n",
        "# Print model summary\n",
        "summary(model, (3, 32, 32))\n"
      ],
      "metadata": {
        "colab": {
          "base_uri": "https://localhost:8080/"
        },
        "id": "j9D9jbYbY_kN",
        "outputId": "a21ec193-3d5c-4f3f-9916-0fb5814ac668"
      },
      "execution_count": 196,
      "outputs": [
        {
          "output_type": "stream",
          "name": "stdout",
          "text": [
            "----------------------------------------------------------------\n",
            "        Layer (type)               Output Shape         Param #\n",
            "================================================================\n",
            "            Conv2d-1           [-1, 64, 32, 32]           1,792\n",
            "       BatchNorm2d-2           [-1, 64, 32, 32]             128\n",
            "            Conv2d-3          [-1, 128, 16, 16]          73,856\n",
            "       BatchNorm2d-4          [-1, 128, 16, 16]             256\n",
            "            Conv2d-5            [-1, 256, 8, 8]         295,168\n",
            "       BatchNorm2d-6            [-1, 256, 8, 8]             512\n",
            "            Conv2d-7            [-1, 512, 4, 4]       1,180,160\n",
            "       BatchNorm2d-8            [-1, 512, 4, 4]           1,024\n",
            "            Conv2d-9            [-1, 512, 2, 2]       2,359,808\n",
            "      BatchNorm2d-10            [-1, 512, 2, 2]           1,024\n",
            "AdaptiveAvgPool2d-11            [-1, 512, 1, 1]               0\n",
            "           Linear-12                  [-1, 256]         131,328\n",
            "          Dropout-13                  [-1, 256]               0\n",
            "           Linear-14                  [-1, 128]          32,896\n",
            "          Dropout-15                  [-1, 128]               0\n",
            "           Linear-16                   [-1, 10]           1,290\n",
            "================================================================\n",
            "Total params: 4,079,242\n",
            "Trainable params: 4,079,242\n",
            "Non-trainable params: 0\n",
            "----------------------------------------------------------------\n",
            "Input size (MB): 0.01\n",
            "Forward/backward pass size (MB): 1.92\n",
            "Params size (MB): 15.56\n",
            "Estimated Total Size (MB): 17.49\n",
            "----------------------------------------------------------------\n"
          ]
        }
      ]
    },
    {
      "cell_type": "code",
      "source": [
        "# Create a dummy input\n",
        "x = torch.randn(2, 3, 32, 32).to(device)  # Batch size of 1\n",
        "\n",
        "# Get the output\n",
        "y = model(x)\n",
        "\n",
        "# Visualize the model\n",
        "dot = make_dot(y, params=dict(list(model.named_parameters())))\n",
        "dot.render(\"cnn_architecture for cifar10\", format=\"png\")  # Save as PNG\n"
      ],
      "metadata": {
        "colab": {
          "base_uri": "https://localhost:8080/",
          "height": 36
        },
        "id": "61OYX9OnZIeJ",
        "outputId": "bba8981f-472d-4dc3-e668-6835594ff002"
      },
      "execution_count": 197,
      "outputs": [
        {
          "output_type": "execute_result",
          "data": {
            "text/plain": [
              "'cnn_architecture for cifar10.png'"
            ],
            "application/vnd.google.colaboratory.intrinsic+json": {
              "type": "string"
            }
          },
          "metadata": {},
          "execution_count": 197
        }
      ]
    },
    {
      "cell_type": "code",
      "source": [
        "\n",
        "# Early Stopping Class\n",
        "class EarlyStopping:\n",
        "    def __init__(self, patience=25, verbose=False):\n",
        "        self.patience = patience\n",
        "        self.verbose = verbose\n",
        "        self.counter = 0\n",
        "        self.best_loss = float('inf')\n",
        "        self.early_stop = False\n",
        "\n",
        "    def __call__(self, val_loss):\n",
        "        if val_loss < self.best_loss:\n",
        "            self.best_loss = val_loss\n",
        "            self.counter = 0  # Reset counter if validation loss improves\n",
        "        else:\n",
        "            self.counter += 1  # Increment counter if no improvement\n",
        "            if self.counter >= self.patience:\n",
        "                self.early_stop = True\n",
        "                if self.verbose:\n",
        "                    print(\"Early stopping triggered\")\n",
        "\n",
        "# Initialize early stopping\n",
        "early_stopping = EarlyStopping(patience=30, verbose=True)\n"
      ],
      "metadata": {
        "id": "CR7E2yCta6Pm"
      },
      "execution_count": 198,
      "outputs": []
    },
    {
      "cell_type": "code",
      "source": [
        "\n",
        "# Parameters\n",
        "num_epoch = 200\n",
        "loss_fn = nn.CrossEntropyLoss()  # Use CrossEntropyLoss for multi-class classification\n",
        "lr = 0.001\n",
        "optimizer = torch.optim.Adam(model.parameters(), lr=0.001, weight_decay=1e-4)\n",
        "scheduler = ReduceLROnPlateau(optimizer, mode='min', factor=0.1, patience=5, verbose=True)\n"
      ],
      "metadata": {
        "id": "uTPqNHCTa__q",
        "colab": {
          "base_uri": "https://localhost:8080/"
        },
        "outputId": "4a5b873e-57db-49a2-a86d-1dfc39a80e1f"
      },
      "execution_count": 199,
      "outputs": [
        {
          "output_type": "stream",
          "name": "stderr",
          "text": [
            "/usr/local/lib/python3.10/dist-packages/torch/optim/lr_scheduler.py:62: UserWarning: The verbose parameter is deprecated. Please use get_last_lr() to access the learning rate.\n",
            "  warnings.warn(\n"
          ]
        }
      ]
    },
    {
      "cell_type": "markdown",
      "source": [
        "#training phase"
      ],
      "metadata": {
        "id": "X-jYQ8oCc8tn"
      }
    },
    {
      "cell_type": "code",
      "source": [
        "\n",
        "# Lists to store training statistics\n",
        "train_loss_list = []\n",
        "val_loss_list = []\n",
        "acc_list = []\n",
        "\n",
        "best_val_loss = float('inf')  # Initialize the best validation loss\n",
        "best_model_wts = None  # Variable to hold the best model weights\n"
      ],
      "metadata": {
        "id": "rXy2GUGibU5E"
      },
      "execution_count": 200,
      "outputs": []
    },
    {
      "cell_type": "code",
      "source": [
        "# Training loop\n",
        "for epoch in range(num_epoch):\n",
        "    train_loss = 0\n",
        "    val_loss = 0\n",
        "    total = 0\n",
        "    correct = 0\n",
        "\n",
        "    # Training phase\n",
        "    model.train()\n",
        "    for i, (images, labels) in enumerate(train_loader):\n",
        "        optimizer.zero_grad()\n",
        "        images = images.to(device)\n",
        "        labels = labels.to(device)\n",
        "\n",
        "        # Forward pass\n",
        "        outputs = model(images)\n",
        "        loss = loss_fn(outputs, labels)\n",
        "        train_loss += loss.item()\n",
        "\n",
        "        # Backward pass and optimization\n",
        "        loss.backward()\n",
        "        optimizer.step()\n",
        "\n",
        "    train_loss /= len(train_loader)  # Average training loss after the loop\n",
        "\n",
        "    # Validation phase\n",
        "    model.eval()\n",
        "    with torch.no_grad():\n",
        "        for images, labels in validation_loader:\n",
        "            images = images.to(device)\n",
        "            labels = labels.to(device)\n",
        "\n",
        "            outputs = model(images)\n",
        "            loss = loss_fn(outputs, labels)\n",
        "            val_loss += loss.item()\n",
        "\n",
        "            # Get predictions\n",
        "            _, predicted = torch.max(outputs, 1)\n",
        "            total += labels.size(0)\n",
        "            correct += (predicted == labels).sum().item()\n",
        "\n",
        "    val_loss /= len(validation_loader)  # Average validation loss after the loop\n",
        "\n",
        "    # Step the scheduler based on validation loss\n",
        "    scheduler.step(val_loss)\n",
        "\n",
        "    # Calculate accuracy\n",
        "    if total > 0:  # Prevent division by zero\n",
        "        accuracy = 100 * correct / total\n",
        "    else:\n",
        "        accuracy = 0.0  # Fallback in case of zero total\n",
        "\n",
        "    # Store losses and accuracy\n",
        "    train_loss_list.append(train_loss)\n",
        "    val_loss_list.append(val_loss)\n",
        "    acc_list.append(accuracy)\n",
        "\n",
        "    print('-' * 100)\n",
        "    print('Epoch [{}/{}], Train Loss: {:.4f}, Val Loss: {:.4f}, Accuracy: {:.2f}%'.format(\n",
        "        epoch + 1, num_epoch, train_loss, val_loss, accuracy))\n",
        "\n",
        "    # Check if the current validation loss is the best we've seen so far\n",
        "    if val_loss < best_val_loss:\n",
        "        best_val_loss = val_loss\n",
        "        best_model_wts = model.state_dict()\n",
        "        print(\"Best model weights saved.\")\n",
        "\n",
        "    # Check for early stopping\n",
        "    early_stopping(val_loss)\n",
        "    if early_stopping.early_stop:\n",
        "        print(\"Early stopping at epoch:\", epoch + 1)\n",
        "        break\n",
        "\n",
        "# Save the best model weights to a file\n",
        "if best_model_wts is not None:\n",
        "    torch.save(best_model_wts, 'best_model_weights.pth')\n",
        "    print(\"Best model weights saved to 'best_model_weights.pth'.\")\n"
      ],
      "metadata": {
        "colab": {
          "base_uri": "https://localhost:8080/"
        },
        "id": "3udilQzVeZn6",
        "outputId": "17f2ae58-5101-4b0b-d7ba-bcdc40dcd100"
      },
      "execution_count": null,
      "outputs": [
        {
          "output_type": "stream",
          "name": "stdout",
          "text": [
            "----------------------------------------------------------------------------------------------------\n",
            "Epoch [1/200], Train Loss: 2.1765, Val Loss: 3.5511, Accuracy: 11.40%\n",
            "Best model weights saved.\n",
            "----------------------------------------------------------------------------------------------------\n",
            "Epoch [2/200], Train Loss: 1.9429, Val Loss: 3.1473, Accuracy: 9.50%\n",
            "Best model weights saved.\n",
            "----------------------------------------------------------------------------------------------------\n",
            "Epoch [3/200], Train Loss: 1.8374, Val Loss: 3.3150, Accuracy: 8.90%\n",
            "----------------------------------------------------------------------------------------------------\n",
            "Epoch [4/200], Train Loss: 1.7460, Val Loss: 3.8749, Accuracy: 9.80%\n",
            "----------------------------------------------------------------------------------------------------\n",
            "Epoch [5/200], Train Loss: 1.6634, Val Loss: 7.3460, Accuracy: 8.70%\n",
            "----------------------------------------------------------------------------------------------------\n",
            "Epoch [6/200], Train Loss: 1.5750, Val Loss: 4.1395, Accuracy: 8.80%\n",
            "----------------------------------------------------------------------------------------------------\n",
            "Epoch [7/200], Train Loss: 1.4844, Val Loss: 3.8402, Accuracy: 10.90%\n"
          ]
        }
      ]
    },
    {
      "cell_type": "code",
      "source": [
        "print(f'Number of epochs: {num_epoch}')\n",
        "print(f'Train Loss List Length: {len(train_loss_list)}')\n",
        "print(f'Validation Loss List Length: {len(val_loss_list)}')\n",
        "print(f'Accuracy List Length: {len(acc_list)}')\n"
      ],
      "metadata": {
        "colab": {
          "base_uri": "https://localhost:8080/"
        },
        "id": "P36-Nqc8br3N",
        "outputId": "bf850be3-2c02-4a2e-c743-42efc91e0ede"
      },
      "execution_count": 190,
      "outputs": [
        {
          "output_type": "stream",
          "name": "stdout",
          "text": [
            "Number of epochs: 200\n",
            "Train Loss List Length: 34\n",
            "Validation Loss List Length: 34\n",
            "Accuracy List Length: 34\n"
          ]
        }
      ]
    },
    {
      "cell_type": "markdown",
      "source": [
        "#visualize model training performance"
      ],
      "metadata": {
        "id": "_FqP9rdZcxrU"
      }
    },
    {
      "cell_type": "code",
      "source": [
        "print(f'Number of epochs: {num_epoch}')\n",
        "print(f'Train Loss List Length: {len(train_loss_list)}')\n",
        "print(f'Validation Loss List Length: {len(val_loss_list)}')\n",
        "print(f'Accuracy List Length: {len(acc_list)}')\n",
        "\n",
        "# Plotting training and validation loss\n",
        "plt.figure(figsize=(12, 6))\n",
        "\n",
        "# Loss Plot\n",
        "plt.subplot(1, 2, 1)  # 1 row, 2 columns, first subplot\n",
        "plt.plot(range(len(train_loss_list)), train_loss_list, label='Train Loss', color='blue', marker='o')\n",
        "plt.plot(range(len(val_loss_list)), val_loss_list, label='Validation Loss', color='orange', marker='o')\n",
        "plt.title('Training and Validation Loss')\n",
        "plt.xlabel('Epochs')\n",
        "plt.ylabel('Loss')\n",
        "plt.xticks(range(len(train_loss_list)))  # Ensure all epochs are labeled\n",
        "plt.grid(True)\n",
        "plt.legend()\n",
        "plt.tight_layout()\n",
        "\n",
        "# Accuracy Plot\n",
        "plt.subplot(1, 2, 2)  # 1 row, 2 columns, second subplot\n",
        "plt.plot(range(len(acc_list)), acc_list, label='Accuracy', color='green', marker='o')\n",
        "plt.title('Validation Accuracy')\n",
        "plt.xlabel('Epochs')\n",
        "plt.ylabel('Accuracy (%)')\n",
        "plt.xticks(range(len(acc_list)))  # Ensure all epochs are labeled\n",
        "plt.grid(True)\n",
        "plt.legend()\n",
        "plt.tight_layout()\n",
        "\n",
        "# Show the plots\n",
        "plt.show()"
      ],
      "metadata": {
        "colab": {
          "base_uri": "https://localhost:8080/",
          "height": 680
        },
        "id": "OLtTVamU7JlO",
        "outputId": "e6e3120e-1b23-44d1-94a7-e41c66eaf5e8"
      },
      "execution_count": 191,
      "outputs": [
        {
          "output_type": "stream",
          "name": "stdout",
          "text": [
            "Number of epochs: 200\n",
            "Train Loss List Length: 34\n",
            "Validation Loss List Length: 34\n",
            "Accuracy List Length: 34\n"
          ]
        },
        {
          "output_type": "display_data",
          "data": {
            "text/plain": [
              "<Figure size 1200x600 with 2 Axes>"
            ],
            "image/png": "[encoded data removed]"
          },
          "metadata": {}
        }
      ]
    },
    {
      "cell_type": "code",
      "source": [],
      "metadata": {
        "id": "Tpk72-UgdGJP"
      },
      "execution_count": 55,
      "outputs": []
    }
  ]
}